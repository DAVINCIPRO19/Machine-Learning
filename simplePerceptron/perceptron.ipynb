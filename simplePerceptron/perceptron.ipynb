{
 "cells": [
  {
   "cell_type": "code",
   "execution_count": 425,
   "metadata": {},
   "outputs": [],
   "source": [
    "import numpy as np\n",
    "from sklearn.datasets import make_blobs"
   ]
  },
  {
   "cell_type": "code",
   "execution_count": 426,
   "metadata": {},
   "outputs": [],
   "source": [
    "class Perceptron:\n",
    "    def __init__(self, numOfFeautures, function, derivative):\n",
    "        self.numOfFeautures = numOfFeautures\n",
    "        self.weights = np.random.random((numOfFeautures, 1))\n",
    "        self.function = function\n",
    "        self.derivative = derivative\n",
    "\n",
    "    def train(self, x_train, y_train, numOfEpochs):\n",
    "        for epoch in range(numOfEpochs):\n",
    "            y_output = self.function(np.dot(x_train, self.weights))\n",
    "            error = y_train - y_output\n",
    "            self.weights += np.dot(x_train.T, error * self.derivative(y_output))\n",
    "\n",
    "    def predict(self, x_test):\n",
    "        prediction = self.function(np.dot(x_test, self.weights)) \n",
    "        return np.where(prediction > 0.5, 1, 0)\n",
    "        \n",
    "    def evaluate(self, x_test, y_test):\n",
    "        prediction = self.predict(x_test)\n",
    "        accuracy = sum(prediction == y_test)[0] / x_test.shape[0]\n",
    "        return 'Accuracy is {:.2f}%'.format(accuracy*100)"
   ]
  },
  {
   "cell_type": "markdown",
   "metadata": {},
   "source": [
    "##### CREATE ```SIGMOID``` FUNCTION"
   ]
  },
  {
   "cell_type": "code",
   "execution_count": 427,
   "metadata": {},
   "outputs": [],
   "source": [
    "def sigmoid(x):\n",
    "    return 1 / (1 + np.exp(-x))"
   ]
  },
  {
   "cell_type": "code",
   "execution_count": 428,
   "metadata": {},
   "outputs": [],
   "source": [
    "def sigmoid_derivative(x):\n",
    "    return x * (1 - x)"
   ]
  },
  {
   "cell_type": "markdown",
   "metadata": {},
   "source": [
    "##### CREATE DATASET FOR TRAINNING AND PREDICTION"
   ]
  },
  {
   "cell_type": "code",
   "execution_count": 429,
   "metadata": {},
   "outputs": [],
   "source": [
    "x, y = make_blobs(n_samples=1000, centers=2, n_features=2)\n",
    "y = np.array([y]).T"
   ]
  },
  {
   "cell_type": "code",
   "execution_count": 430,
   "metadata": {},
   "outputs": [],
   "source": [
    "n = int(x.shape[0]*.95)\n",
    "x_train = x[:n]\n",
    "y_train = y[:n]\n",
    "x_test  = x[n:]\n",
    "y_test  = y[n:]"
   ]
  },
  {
   "cell_type": "markdown",
   "metadata": {},
   "source": [
    "EVALUATE PERCEPTRON AND GET ACCURACY"
   ]
  },
  {
   "cell_type": "code",
   "execution_count": 431,
   "metadata": {},
   "outputs": [],
   "source": [
    "ppn = Perceptron(2, sigmoid, sigmoid_derivative)\n",
    "ppn.train(x_train, y_train, 10000)\n",
    "acc = ppn.evaluate(x_test, y_test)"
   ]
  },
  {
   "cell_type": "code",
   "execution_count": 432,
   "metadata": {},
   "outputs": [
    {
     "name": "stdout",
     "output_type": "stream",
     "text": [
      "Accuracy is 100.00%\n"
     ]
    }
   ],
   "source": [
    "print(acc)"
   ]
  }
 ],
 "metadata": {
  "interpreter": {
   "hash": "ac59ebe37160ed0dfa835113d9b8498d9f09ceb179beaac4002f036b9467c963"
  },
  "kernelspec": {
   "display_name": "Python 3.9.9 64-bit",
   "language": "python",
   "name": "python3"
  },
  "language_info": {
   "codemirror_mode": {
    "name": "ipython",
    "version": 3
   },
   "file_extension": ".py",
   "mimetype": "text/x-python",
   "name": "python",
   "nbconvert_exporter": "python",
   "pygments_lexer": "ipython3",
   "version": "3.9.9"
  },
  "orig_nbformat": 4
 },
 "nbformat": 4,
 "nbformat_minor": 2
}
