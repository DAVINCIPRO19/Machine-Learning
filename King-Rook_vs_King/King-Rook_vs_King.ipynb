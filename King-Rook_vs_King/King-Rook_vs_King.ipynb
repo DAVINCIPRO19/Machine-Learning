{
 "cells": [
  {
   "cell_type": "code",
   "execution_count": 1,
   "metadata": {},
   "outputs": [],
   "source": [
    "import numpy as np\n",
    "import pandas as pd\n",
    "import seaborn as sns\n",
    "from tqdm.notebook import tqdm\n",
    "import matplotlib.pyplot as plt\n",
    "\n",
    "import torch\n",
    "import torch.nn as nn\n",
    "import torch.optim as optim\n",
    "from torch.utils.data import Dataset, DataLoader, WeightedRandomSampler\n",
    "\n",
    "from sklearn.preprocessing import MinMaxScaler    \n",
    "from sklearn.model_selection import train_test_split\n",
    "from sklearn.metrics import confusion_matrix, classification_report"
   ]
  },
  {
   "cell_type": "code",
   "execution_count": 2,
   "metadata": {},
   "outputs": [],
   "source": [
    "board_dict = {\n",
    "    \"a\" : 1, \"b\" : 2, \"c\" : 3, \"d\" : 4, \n",
    "    \"e\" : 5, \"f\" : 6, \"g\" : 7, \"h\" : 8\n",
    "}\n",
    "depth_dict = {\n",
    "    \"zero\" : 0, \"one\" : 1, \"two\" : 2, \"three\" : 3,\n",
    "    \"four\" : 4, \"five\" : 5, \"six\" : 6, \"seven\" : 7,\n",
    "    \"eight\" : 8, \"nine\" : 9, \"ten\" : 10, \"eleven\" : 11,\n",
    "    \"twelve\" : 12, \"thirteen\" : 13, \"fourteen\" : 14, \"fifteen\" : 15,\n",
    "    \"sixteen\" : 16, \"draw\" : 17\n",
    "}\n",
    "# f = lambda x: np.array([board_dict.get(x[0]), x[1], board_dict.get(x[2]), x[3], board_dict.get(x[4]), x[5], depth_dict.get(x[6])])"
   ]
  },
  {
   "cell_type": "code",
   "execution_count": 3,
   "metadata": {},
   "outputs": [
    {
     "data": {
      "text/html": [
       "<div>\n",
       "<style scoped>\n",
       "    .dataframe tbody tr th:only-of-type {\n",
       "        vertical-align: middle;\n",
       "    }\n",
       "\n",
       "    .dataframe tbody tr th {\n",
       "        vertical-align: top;\n",
       "    }\n",
       "\n",
       "    .dataframe thead th {\n",
       "        text-align: right;\n",
       "    }\n",
       "</style>\n",
       "<table border=\"1\" class=\"dataframe\">\n",
       "  <thead>\n",
       "    <tr style=\"text-align: right;\">\n",
       "      <th></th>\n",
       "      <th>wking_file</th>\n",
       "      <th>wking_rank</th>\n",
       "      <th>wrook_file</th>\n",
       "      <th>wrook_rank</th>\n",
       "      <th>bking_file</th>\n",
       "      <th>bking_rank</th>\n",
       "      <th>depth</th>\n",
       "    </tr>\n",
       "  </thead>\n",
       "  <tbody>\n",
       "    <tr>\n",
       "      <th>0</th>\n",
       "      <td>4</td>\n",
       "      <td>1</td>\n",
       "      <td>4</td>\n",
       "      <td>5</td>\n",
       "      <td>6</td>\n",
       "      <td>5</td>\n",
       "      <td>14</td>\n",
       "    </tr>\n",
       "    <tr>\n",
       "      <th>1</th>\n",
       "      <td>3</td>\n",
       "      <td>2</td>\n",
       "      <td>7</td>\n",
       "      <td>7</td>\n",
       "      <td>5</td>\n",
       "      <td>8</td>\n",
       "      <td>10</td>\n",
       "    </tr>\n",
       "    <tr>\n",
       "      <th>2</th>\n",
       "      <td>2</td>\n",
       "      <td>1</td>\n",
       "      <td>6</td>\n",
       "      <td>7</td>\n",
       "      <td>8</td>\n",
       "      <td>7</td>\n",
       "      <td>13</td>\n",
       "    </tr>\n",
       "    <tr>\n",
       "      <th>3</th>\n",
       "      <td>3</td>\n",
       "      <td>2</td>\n",
       "      <td>4</td>\n",
       "      <td>1</td>\n",
       "      <td>7</td>\n",
       "      <td>5</td>\n",
       "      <td>13</td>\n",
       "    </tr>\n",
       "    <tr>\n",
       "      <th>4</th>\n",
       "      <td>4</td>\n",
       "      <td>1</td>\n",
       "      <td>4</td>\n",
       "      <td>7</td>\n",
       "      <td>7</td>\n",
       "      <td>2</td>\n",
       "      <td>12</td>\n",
       "    </tr>\n",
       "  </tbody>\n",
       "</table>\n",
       "</div>"
      ],
      "text/plain": [
       "   wking_file  wking_rank  wrook_file  wrook_rank  bking_file  bking_rank  \\\n",
       "0           4           1           4           5           6           5   \n",
       "1           3           2           7           7           5           8   \n",
       "2           2           1           6           7           8           7   \n",
       "3           3           2           4           1           7           5   \n",
       "4           4           1           4           7           7           2   \n",
       "\n",
       "   depth  \n",
       "0     14  \n",
       "1     10  \n",
       "2     13  \n",
       "3     13  \n",
       "4     12  "
      ]
     },
     "execution_count": 3,
     "metadata": {},
     "output_type": "execute_result"
    }
   ],
   "source": [
    "# data = np.loadtxt('train.data', delimiter=',', dtype='str')\n",
    "# data = np.array([f(row) for row in data], dtype=np.float32)\n",
    "\n",
    "data = pd.read_csv('train.data', names=['wking_file', 'wking_rank', 'wrook_file', 'wrook_rank', 'bking_file', 'bking_rank', 'depth'])\n",
    "\n",
    "data['wking_file'] = data['wking_file'].apply(lambda x : board_dict.get(x))\n",
    "data['wrook_file'] = data['wrook_file'].apply(lambda x : board_dict.get(x))\n",
    "data['bking_file'] = data['bking_file'].apply(lambda x : board_dict.get(x))\n",
    "data['depth'] = data['depth'].apply(lambda x : depth_dict.get(x))\n",
    "\n",
    "data.head()"
   ]
  },
  {
   "cell_type": "code",
   "execution_count": 4,
   "metadata": {},
   "outputs": [
    {
     "data": {
      "text/plain": [
       "<AxesSubplot:xlabel='depth', ylabel='count'>"
      ]
     },
     "execution_count": 4,
     "metadata": {},
     "output_type": "execute_result"
    },
    {
     "data": {
      "image/png": "[encoded data removed]",
      "text/plain": [
       "<Figure size 432x288 with 1 Axes>"
      ]
     },
     "metadata": {
      "needs_background": "light"
     },
     "output_type": "display_data"
    }
   ],
   "source": [
    "sns.countplot(x = 'depth', data=data)"
   ]
  },
  {
   "cell_type": "code",
   "execution_count": 5,
   "metadata": {},
   "outputs": [],
   "source": [
    "X = data.iloc[:, 0:-1]\n",
    "y = data.iloc[:, -1]"
   ]
  },
  {
   "cell_type": "code",
   "execution_count": 6,
   "metadata": {},
   "outputs": [],
   "source": [
    "# Split into train+val and test\n",
    "X_trainval, X_test, y_trainval, y_test = train_test_split(X, y, test_size=0.2, stratify=y, random_state=1)\n",
    "\n",
    "# Split train into train-val\n",
    "X_train, X_val, y_train, y_val = train_test_split(X_trainval, y_trainval, test_size=0.1, stratify=y_trainval, random_state=1)"
   ]
  },
  {
   "cell_type": "code",
   "execution_count": 7,
   "metadata": {},
   "outputs": [],
   "source": [
    "scaler = MinMaxScaler()\n",
    "X_train = scaler.fit_transform(X_train)\n",
    "X_val = scaler.transform(X_val)\n",
    "X_test = scaler.transform(X_test)\n",
    "X_train, y_train = np.array(X_train), np.array(y_train)\n",
    "X_val, y_val = np.array(X_val), np.array(y_val)\n",
    "X_test, y_test = np.array(X_test), np.array(y_test)"
   ]
  },
  {
   "cell_type": "code",
   "execution_count": 8,
   "metadata": {},
   "outputs": [],
   "source": [
    "def get_class_distribution(obj):\n",
    "    count_dict = {\n",
    "        \"0\":0,\n",
    "        \"1\": 0,\n",
    "        \"2\": 0,\n",
    "        \"3\": 0,\n",
    "        \"4\": 0,\n",
    "        \"5\": 0,\n",
    "        \"6\": 0,\n",
    "        \"7\": 0,\n",
    "        \"8\": 0,\n",
    "        \"9\": 0,\n",
    "        \"10\": 0,\n",
    "        \"11\": 0,\n",
    "        \"12\": 0,\n",
    "        \"13\": 0,\n",
    "        \"14\": 0,\n",
    "        \"15\": 0,\n",
    "        \"16\": 0,\n",
    "        \"draw\": 0\n",
    "    }\n",
    "    \n",
    "    for i in obj:\n",
    "        if i == 0: \n",
    "            count_dict['0'] += 1\n",
    "        elif i == 1: \n",
    "            count_dict['1'] += 1\n",
    "        elif i == 2: \n",
    "            count_dict['2'] += 1\n",
    "        elif i == 3: \n",
    "            count_dict['3'] += 1\n",
    "        elif i == 4: \n",
    "            count_dict['4'] += 1  \n",
    "        elif i == 5: \n",
    "            count_dict['5'] += 1\n",
    "        elif i == 6: \n",
    "            count_dict['6'] += 1\n",
    "        elif i == 7: \n",
    "            count_dict['7'] += 1\n",
    "        elif i == 8: \n",
    "            count_dict['8'] += 1 \n",
    "        elif i == 9: \n",
    "            count_dict['9'] += 1\n",
    "        elif i == 10: \n",
    "            count_dict['10'] += 1\n",
    "        elif i == 11: \n",
    "            count_dict['11'] += 1\n",
    "        elif i == 12: \n",
    "            count_dict['12'] += 1 \n",
    "        elif i == 13: \n",
    "            count_dict['13'] += 1 \n",
    "        elif i == 14: \n",
    "            count_dict['14'] += 1\n",
    "        elif i == 15: \n",
    "            count_dict['15'] += 1\n",
    "        elif i == 16: \n",
    "            count_dict['16'] += 1\n",
    "        elif i == 17: \n",
    "            count_dict['draw'] += 1              \n",
    "            \n",
    "    return count_dict"
   ]
  },
  {
   "cell_type": "code",
   "execution_count": 9,
   "metadata": {},
   "outputs": [
    {
     "data": {
      "text/plain": [
       "Text(0.5, 1.0, 'Class Distribution in Test Set')"
      ]
     },
     "execution_count": 9,
     "metadata": {},
     "output_type": "execute_result"
    },
    {
     "data": {
      "image/png": "[encoded data removed]",
      "text/plain": [
       "<Figure size 1800x504 with 3 Axes>"
      ]
     },
     "metadata": {
      "needs_background": "light"
     },
     "output_type": "display_data"
    }
   ],
   "source": [
    "fig, axes = plt.subplots(nrows=1, ncols=3, figsize=(25,7))\n",
    "# Train\n",
    "sns.barplot(data = pd.DataFrame.from_dict([get_class_distribution(y_train)]).melt(), x = \"variable\", y=\"value\", hue=\"variable\",  ax=axes[0]).set_title('Class Distribution in Train Set')\n",
    "# Validation\n",
    "sns.barplot(data = pd.DataFrame.from_dict([get_class_distribution(y_val)]).melt(), x = \"variable\", y=\"value\", hue=\"variable\",  ax=axes[1]).set_title('Class Distribution in Val Set')\n",
    "# Test\n",
    "sns.barplot(data = pd.DataFrame.from_dict([get_class_distribution(y_test)]).melt(), x = \"variable\", y=\"value\", hue=\"variable\",  ax=axes[2]).set_title('Class Distribution in Test Set')"
   ]
  },
  {
   "cell_type": "code",
   "execution_count": 10,
   "metadata": {},
   "outputs": [],
   "source": [
    "class ChessDataset(Dataset):\n",
    "    def __init__(self, X, y):\n",
    "        self.X = X\n",
    "        self.y = y\n",
    "\n",
    "    def __getitem__(self, index):\n",
    "        return self.X[index], self.y[index]\n",
    "\n",
    "    def __len__(self):\n",
    "        return len(self.X) "
   ]
  },
  {
   "cell_type": "code",
   "execution_count": 11,
   "metadata": {},
   "outputs": [],
   "source": [
    "train_dataset = ChessDataset(torch.from_numpy(X_train).float(), torch.from_numpy(y_train).long())\n",
    "val_dataset = ChessDataset(torch.from_numpy(X_val).float(), torch.from_numpy(y_val).long())\n",
    "test_dataset = ChessDataset(torch.from_numpy(X_test).float(), torch.from_numpy(y_test).long())"
   ]
  },
  {
   "cell_type": "code",
   "execution_count": 12,
   "metadata": {},
   "outputs": [],
   "source": [
    "target_list = []\n",
    "for _, t in train_dataset:\n",
    "    target_list.append(t)\n",
    "    \n",
    "target_list = torch.tensor(target_list)"
   ]
  },
  {
   "cell_type": "code",
   "execution_count": 13,
   "metadata": {},
   "outputs": [
    {
     "name": "stdout",
     "output_type": "stream",
     "text": [
      "tensor([0.0556, 0.0204, 0.0063, 0.0200, 0.0075, 0.0033, 0.0026, 0.0022, 0.0011,\n",
      "        0.0009, 0.0008, 0.0005, 0.0004, 0.0004, 0.0003, 0.0007, 0.0039, 0.0006])\n"
     ]
    }
   ],
   "source": [
    "class_count = [i for i in get_class_distribution(y_train).values()]\n",
    "class_weights = 1./torch.tensor(class_count, dtype=torch.float) \n",
    "print(class_weights)"
   ]
  },
  {
   "cell_type": "code",
   "execution_count": 14,
   "metadata": {},
   "outputs": [],
   "source": [
    "class_weights_all = class_weights[target_list]"
   ]
  },
  {
   "cell_type": "code",
   "execution_count": 15,
   "metadata": {},
   "outputs": [],
   "source": [
    "weighted_sampler = WeightedRandomSampler(\n",
    "    weights=class_weights_all,\n",
    "    num_samples=len(class_weights_all),\n",
    "    replacement=True\n",
    ")"
   ]
  },
  {
   "cell_type": "code",
   "execution_count": 16,
   "metadata": {},
   "outputs": [],
   "source": [
    "EPOCHS = 200\n",
    "BATCH_SIZE = 8\n",
    "LEARNING_RATE = 0.0007\n",
    "NUM_FEATURES = len(X.columns)\n",
    "NUM_CLASSES = 18"
   ]
  },
  {
   "cell_type": "code",
   "execution_count": 17,
   "metadata": {},
   "outputs": [],
   "source": [
    "train_loader = DataLoader(dataset=train_dataset,\n",
    "                          batch_size=BATCH_SIZE,\n",
    "                          sampler=weighted_sampler\n",
    ")\n",
    "val_loader = DataLoader(dataset=val_dataset, batch_size=1)\n",
    "test_loader = DataLoader(dataset=test_dataset, batch_size=1)"
   ]
  },
  {
   "cell_type": "code",
   "execution_count": 18,
   "metadata": {},
   "outputs": [],
   "source": [
    "class MulticlassClassification(nn.Module):\n",
    "    def __init__(self, num_feature, num_class):\n",
    "        super(MulticlassClassification, self).__init__()\n",
    "        \n",
    "        self.layer_1 = nn.Linear(num_feature, 512)\n",
    "        self.relu_1 = nn.ReLU()\n",
    "        \n",
    "        self.layer_2 = nn.Linear(512, 384)\n",
    "        self.relu_2 = nn.ReLU()\n",
    "        \n",
    "        self.layer_3 = nn.Linear(384, 256)\n",
    "        self.relu_3 = nn.ReLU()\n",
    "        \n",
    "        self.layer_4 = nn.Linear(256, 128)\n",
    "        self.relu_4 = nn.ReLU()\n",
    "        \n",
    "        self.layer_5 = nn.Linear(128, 64)\n",
    "        self.relu_5 = nn.ReLU()\n",
    "        \n",
    "        self.layer_6 = nn.Linear(64, 32)\n",
    "        self.relu_6 = nn.ReLU()\n",
    "        \n",
    "        self.layer_out = nn.Linear(32, num_class) \n",
    "        \n",
    "        self.dropout = nn.Dropout(p=0.1)\n",
    "        self.batchnorm1 = nn.BatchNorm1d(512)\n",
    "        self.batchnorm2 = nn.BatchNorm1d(384)\n",
    "        self.batchnorm3 = nn.BatchNorm1d(256)\n",
    "        self.batchnorm4 = nn.BatchNorm1d(128)\n",
    "        self.batchnorm5 = nn.BatchNorm1d(64)\n",
    "        self.batchnorm6 = nn.BatchNorm1d(32)\n",
    "        \n",
    "    def forward(self, x):\n",
    "        x = self.layer_1(x)\n",
    "        x = self.batchnorm1(x)\n",
    "        x = self.relu_1(x)\n",
    "        \n",
    "        x = self.layer_2(x)\n",
    "        x = self.batchnorm2(x)\n",
    "        x = self.relu_2(x)\n",
    "        x = self.dropout(x)\n",
    "        \n",
    "        x = self.layer_3(x)\n",
    "        x = self.batchnorm3(x)\n",
    "        x = self.relu_3(x)\n",
    "        \n",
    "        x = self.layer_4(x)\n",
    "        x = self.batchnorm4(x)\n",
    "        x = self.relu_4(x)\n",
    "        \n",
    "        x = self.layer_5(x)\n",
    "        x = self.batchnorm5(x)\n",
    "        x = self.relu_5(x)\n",
    "        \n",
    "        x = self.layer_6(x)\n",
    "        x = self.batchnorm6(x)\n",
    "        x = self.relu_6(x)\n",
    "        x = self.dropout(x)\n",
    "        \n",
    "        x = self.layer_out(x)\n",
    "        \n",
    "        return x"
   ]
  },
  {
   "cell_type": "code",
   "execution_count": 19,
   "metadata": {},
   "outputs": [
    {
     "name": "stdout",
     "output_type": "stream",
     "text": [
      "cuda:0\n"
     ]
    }
   ],
   "source": [
    "device = torch.device(\"cuda:0\" if torch.cuda.is_available() else \"cpu\")\n",
    "print(device)"
   ]
  },
  {
   "cell_type": "code",
   "execution_count": 20,
   "metadata": {},
   "outputs": [],
   "source": [
    "model = torch.load(r'C:\\Users\\diasa\\Machine-Learning\\King-Rook_vs_King\\model_scripted.pt')"
   ]
  },
  {
   "cell_type": "code",
   "execution_count": 21,
   "metadata": {},
   "outputs": [
    {
     "name": "stdout",
     "output_type": "stream",
     "text": [
      "MulticlassClassification(\n",
      "  (layer_1): Linear(in_features=6, out_features=512, bias=True)\n",
      "  (relu_1): ReLU()\n",
      "  (layer_2): Linear(in_features=512, out_features=384, bias=True)\n",
      "  (relu_2): ReLU()\n",
      "  (layer_3): Linear(in_features=384, out_features=256, bias=True)\n",
      "  (relu_3): ReLU()\n",
      "  (layer_4): Linear(in_features=256, out_features=128, bias=True)\n",
      "  (relu_4): ReLU()\n",
      "  (layer_5): Linear(in_features=128, out_features=64, bias=True)\n",
      "  (relu_5): ReLU()\n",
      "  (layer_6): Linear(in_features=64, out_features=32, bias=True)\n",
      "  (relu_6): ReLU()\n",
      "  (layer_out): Linear(in_features=32, out_features=18, bias=True)\n",
      "  (dropout): Dropout(p=0.1, inplace=False)\n",
      "  (batchnorm1): BatchNorm1d(512, eps=1e-05, momentum=0.1, affine=True, track_running_stats=True)\n",
      "  (batchnorm2): BatchNorm1d(384, eps=1e-05, momentum=0.1, affine=True, track_running_stats=True)\n",
      "  (batchnorm3): BatchNorm1d(256, eps=1e-05, momentum=0.1, affine=True, track_running_stats=True)\n",
      "  (batchnorm4): BatchNorm1d(128, eps=1e-05, momentum=0.1, affine=True, track_running_stats=True)\n",
      "  (batchnorm5): BatchNorm1d(64, eps=1e-05, momentum=0.1, affine=True, track_running_stats=True)\n",
      "  (batchnorm6): BatchNorm1d(32, eps=1e-05, momentum=0.1, affine=True, track_running_stats=True)\n",
      ")\n"
     ]
    }
   ],
   "source": [
    "model = MulticlassClassification(num_feature = NUM_FEATURES, num_class=NUM_CLASSES)\n",
    "model.to(device)\n",
    "\n",
    "criterion = nn.CrossEntropyLoss(weight=class_weights.to(device))\n",
    "optimizer = optim.Adam(model.parameters(), lr=LEARNING_RATE)\n",
    "print(model)"
   ]
  },
  {
   "cell_type": "code",
   "execution_count": 22,
   "metadata": {},
   "outputs": [],
   "source": [
    "def multi_acc(y_pred, y_test):\n",
    "    y_pred_softmax = torch.log_softmax(y_pred, dim = 1)\n",
    "    _, y_pred_tags = torch.max(y_pred_softmax, dim = 1)    \n",
    "    \n",
    "    correct_pred = (y_pred_tags == y_test).float()\n",
    "    acc = correct_pred.sum() / len(correct_pred)\n",
    "    \n",
    "    acc = torch.round(acc * 100)\n",
    "    \n",
    "    return acc"
   ]
  },
  {
   "cell_type": "code",
   "execution_count": 23,
   "metadata": {},
   "outputs": [],
   "source": [
    "accuracy_stats = {\n",
    "    'train': [],\n",
    "    \"val\": []\n",
    "}\n",
    "loss_stats = {\n",
    "    'train': [],\n",
    "    \"val\": []\n",
    "}"
   ]
  },
  {
   "cell_type": "code",
   "execution_count": 24,
   "metadata": {},
   "outputs": [
    {
     "name": "stdout",
     "output_type": "stream",
     "text": [
      "Begin training.\n"
     ]
    },
    {
     "data": {
      "application/vnd.jupyter.widget-view+json": {
       "model_id": "b3de17346e0c4805b022d54b919b77d0",
       "version_major": 2,
       "version_minor": 0
      },
      "text/plain": [
       "HBox(children=(HTML(value=''), FloatProgress(value=0.0, max=200.0), HTML(value='')))"
      ]
     },
     "metadata": {},
     "output_type": "display_data"
    },
    {
     "name": "stdout",
     "output_type": "stream",
     "text": [
      "Epoch 001: | Train Loss: 1.72419 | Val Loss: 3.13544 | Train Acc: 18.693| Val Acc: 3.614\n",
      "Epoch 002: | Train Loss: 1.46418 | Val Loss: 2.83959 | Train Acc: 22.409| Val Acc: 5.743\n",
      "Epoch 003: | Train Loss: 1.37537 | Val Loss: 2.76362 | Train Acc: 24.223| Val Acc: 5.149\n",
      "Epoch 004: | Train Loss: 1.30393 | Val Loss: 2.59053 | Train Acc: 25.491| Val Acc: 7.426\n",
      "Epoch 005: | Train Loss: 1.26110 | Val Loss: 2.62172 | Train Acc: 26.484| Val Acc: 8.218\n",
      "Epoch 006: | Train Loss: 1.24814 | Val Loss: 2.55874 | Train Acc: 27.630| Val Acc: 8.267\n",
      "Epoch 007: | Train Loss: 1.22833 | Val Loss: 2.50549 | Train Acc: 27.444| Val Acc: 8.960\n",
      "Epoch 008: | Train Loss: 1.18963 | Val Loss: 2.47114 | Train Acc: 28.939| Val Acc: 10.297\n",
      "Epoch 009: | Train Loss: 1.13009 | Val Loss: 2.60320 | Train Acc: 29.293| Val Acc: 9.604\n",
      "Epoch 010: | Train Loss: 1.14847 | Val Loss: 2.52705 | Train Acc: 29.832| Val Acc: 8.218\n",
      "Epoch 011: | Train Loss: 1.10435 | Val Loss: 2.54831 | Train Acc: 30.536| Val Acc: 10.644\n",
      "Epoch 012: | Train Loss: 1.12539 | Val Loss: 2.49193 | Train Acc: 30.049| Val Acc: 9.851\n",
      "Epoch 013: | Train Loss: 1.14728 | Val Loss: 2.51416 | Train Acc: 30.556| Val Acc: 8.267\n",
      "Epoch 014: | Train Loss: 1.07851 | Val Loss: 2.43641 | Train Acc: 31.259| Val Acc: 10.594\n",
      "Epoch 015: | Train Loss: 1.06395 | Val Loss: 2.61517 | Train Acc: 32.215| Val Acc: 9.455\n",
      "Epoch 016: | Train Loss: 1.05602 | Val Loss: 2.58711 | Train Acc: 31.910| Val Acc: 9.059\n",
      "Epoch 017: | Train Loss: 1.05600 | Val Loss: 2.64480 | Train Acc: 31.960| Val Acc: 9.406\n",
      "Epoch 018: | Train Loss: 1.04108 | Val Loss: 2.53334 | Train Acc: 32.492| Val Acc: 10.396\n",
      "Epoch 019: | Train Loss: 1.02463 | Val Loss: 2.54801 | Train Acc: 33.024| Val Acc: 10.842\n",
      "Epoch 020: | Train Loss: 1.01095 | Val Loss: 2.63551 | Train Acc: 33.440| Val Acc: 9.851\n",
      "Epoch 021: | Train Loss: 0.98834 | Val Loss: 2.52049 | Train Acc: 33.781| Val Acc: 10.446\n",
      "Epoch 022: | Train Loss: 1.00523 | Val Loss: 2.49971 | Train Acc: 33.824| Val Acc: 11.287\n",
      "Epoch 023: | Train Loss: 1.00020 | Val Loss: 2.56488 | Train Acc: 33.704| Val Acc: 10.594\n",
      "Epoch 024: | Train Loss: 0.97751 | Val Loss: 2.53143 | Train Acc: 34.256| Val Acc: 9.802\n",
      "Epoch 025: | Train Loss: 0.97692 | Val Loss: 2.57322 | Train Acc: 33.784| Val Acc: 9.356\n",
      "Epoch 026: | Train Loss: 0.98964 | Val Loss: 2.61239 | Train Acc: 34.086| Val Acc: 10.644\n",
      "Epoch 027: | Train Loss: 0.97084 | Val Loss: 2.52730 | Train Acc: 34.738| Val Acc: 11.040\n",
      "Epoch 028: | Train Loss: 0.95581 | Val Loss: 2.55333 | Train Acc: 34.849| Val Acc: 10.446\n",
      "Epoch 029: | Train Loss: 0.94872 | Val Loss: 2.57188 | Train Acc: 34.459| Val Acc: 10.842\n",
      "Epoch 030: | Train Loss: 0.94180 | Val Loss: 2.44381 | Train Acc: 35.381| Val Acc: 11.287\n",
      "Epoch 031: | Train Loss: 0.96430 | Val Loss: 2.73195 | Train Acc: 35.087| Val Acc: 8.267\n",
      "Epoch 032: | Train Loss: 0.95484 | Val Loss: 2.58564 | Train Acc: 35.217| Val Acc: 11.040\n",
      "Epoch 033: | Train Loss: 0.93613 | Val Loss: 2.82869 | Train Acc: 35.446| Val Acc: 9.109\n",
      "Epoch 034: | Train Loss: 0.94429 | Val Loss: 2.76346 | Train Acc: 35.717| Val Acc: 9.109\n",
      "Epoch 035: | Train Loss: 0.92549 | Val Loss: 2.49188 | Train Acc: 35.757| Val Acc: 11.337\n",
      "Epoch 036: | Train Loss: 0.92489 | Val Loss: 2.72571 | Train Acc: 36.304| Val Acc: 10.248\n",
      "Epoch 037: | Train Loss: 0.88095 | Val Loss: 2.61255 | Train Acc: 36.092| Val Acc: 10.594\n",
      "Epoch 038: | Train Loss: 0.92267 | Val Loss: 2.58412 | Train Acc: 36.900| Val Acc: 10.693\n",
      "Epoch 039: | Train Loss: 0.90505 | Val Loss: 2.55633 | Train Acc: 37.081| Val Acc: 12.079\n",
      "Epoch 040: | Train Loss: 0.91233 | Val Loss: 2.59852 | Train Acc: 36.812| Val Acc: 11.139\n",
      "Epoch 041: | Train Loss: 0.91574 | Val Loss: 2.41752 | Train Acc: 36.438| Val Acc: 12.030\n",
      "Epoch 042: | Train Loss: 0.91203 | Val Loss: 2.65277 | Train Acc: 36.195| Val Acc: 9.950\n",
      "Epoch 043: | Train Loss: 0.88113 | Val Loss: 2.89011 | Train Acc: 36.932| Val Acc: 8.416\n",
      "Epoch 044: | Train Loss: 0.88414 | Val Loss: 2.66084 | Train Acc: 37.247| Val Acc: 10.644\n",
      "Epoch 045: | Train Loss: 0.90409 | Val Loss: 2.63252 | Train Acc: 36.708| Val Acc: 11.832\n",
      "Epoch 046: | Train Loss: 0.86865 | Val Loss: 2.49004 | Train Acc: 37.622| Val Acc: 12.624\n",
      "Epoch 047: | Train Loss: 0.86379 | Val Loss: 2.61289 | Train Acc: 38.131| Val Acc: 10.941\n",
      "Epoch 048: | Train Loss: 0.87598 | Val Loss: 2.46389 | Train Acc: 37.996| Val Acc: 13.911\n",
      "Epoch 049: | Train Loss: 0.86168 | Val Loss: 2.68263 | Train Acc: 37.958| Val Acc: 10.990\n",
      "Epoch 050: | Train Loss: 0.85805 | Val Loss: 2.63554 | Train Acc: 38.059| Val Acc: 10.050\n",
      "Epoch 051: | Train Loss: 0.85791 | Val Loss: 2.80058 | Train Acc: 38.110| Val Acc: 8.762\n",
      "Epoch 052: | Train Loss: 0.84531 | Val Loss: 2.57724 | Train Acc: 38.398| Val Acc: 10.842\n",
      "Epoch 053: | Train Loss: 0.83762 | Val Loss: 2.43235 | Train Acc: 38.458| Val Acc: 14.010\n",
      "Epoch 054: | Train Loss: 0.84569 | Val Loss: 2.62470 | Train Acc: 38.929| Val Acc: 11.436\n",
      "Epoch 055: | Train Loss: 0.82855 | Val Loss: 2.62902 | Train Acc: 38.952| Val Acc: 11.386\n",
      "Epoch 056: | Train Loss: 0.84006 | Val Loss: 2.65473 | Train Acc: 38.504| Val Acc: 9.802\n",
      "Epoch 057: | Train Loss: 0.82103 | Val Loss: 2.95914 | Train Acc: 39.114| Val Acc: 9.158\n",
      "Epoch 058: | Train Loss: 0.89094 | Val Loss: 2.68491 | Train Acc: 38.021| Val Acc: 10.842\n",
      "Epoch 059: | Train Loss: 0.83298 | Val Loss: 2.69424 | Train Acc: 38.718| Val Acc: 9.901\n",
      "Epoch 060: | Train Loss: 0.81477 | Val Loss: 2.46908 | Train Acc: 39.158| Val Acc: 14.505\n",
      "Epoch 061: | Train Loss: 0.82362 | Val Loss: 2.44097 | Train Acc: 39.183| Val Acc: 16.337\n",
      "Epoch 062: | Train Loss: 0.81627 | Val Loss: 2.65561 | Train Acc: 39.587| Val Acc: 10.000\n",
      "Epoch 063: | Train Loss: 0.80440 | Val Loss: 2.56274 | Train Acc: 40.091| Val Acc: 12.228\n",
      "Epoch 064: | Train Loss: 0.85728 | Val Loss: 2.69792 | Train Acc: 39.522| Val Acc: 11.188\n",
      "Epoch 065: | Train Loss: 0.84139 | Val Loss: 2.61144 | Train Acc: 38.990| Val Acc: 9.802\n",
      "Epoch 066: | Train Loss: 0.82074 | Val Loss: 2.41507 | Train Acc: 38.768| Val Acc: 13.267\n",
      "Epoch 067: | Train Loss: 0.82879 | Val Loss: 2.49527 | Train Acc: 40.031| Val Acc: 12.574\n",
      "Epoch 068: | Train Loss: 0.84881 | Val Loss: 2.86365 | Train Acc: 39.613| Val Acc: 8.069\n",
      "Epoch 069: | Train Loss: 0.80402 | Val Loss: 2.50230 | Train Acc: 39.765| Val Acc: 14.505\n",
      "Epoch 070: | Train Loss: 0.82074 | Val Loss: 2.63308 | Train Acc: 39.676| Val Acc: 10.198\n",
      "Epoch 071: | Train Loss: 0.79957 | Val Loss: 2.63466 | Train Acc: 40.090| Val Acc: 10.149\n",
      "Epoch 072: | Train Loss: 0.80618 | Val Loss: 2.56737 | Train Acc: 39.663| Val Acc: 13.812\n",
      "Epoch 073: | Train Loss: 0.81796 | Val Loss: 2.52995 | Train Acc: 39.914| Val Acc: 9.752\n",
      "Epoch 074: | Train Loss: 0.81689 | Val Loss: 2.53457 | Train Acc: 39.578| Val Acc: 10.594\n",
      "Epoch 075: | Train Loss: 0.82718 | Val Loss: 2.72389 | Train Acc: 40.022| Val Acc: 11.040\n",
      "Epoch 076: | Train Loss: 0.83374 | Val Loss: 2.69002 | Train Acc: 39.167| Val Acc: 9.851\n",
      "Epoch 077: | Train Loss: 0.81819 | Val Loss: 2.34581 | Train Acc: 40.085| Val Acc: 13.119\n",
      "Epoch 078: | Train Loss: 0.78843 | Val Loss: 2.54283 | Train Acc: 40.749| Val Acc: 12.723\n",
      "Epoch 079: | Train Loss: 0.80044 | Val Loss: 2.54577 | Train Acc: 39.617| Val Acc: 11.485\n",
      "Epoch 080: | Train Loss: 0.80672 | Val Loss: 2.72653 | Train Acc: 40.128| Val Acc: 10.495\n",
      "Epoch 081: | Train Loss: 0.82057 | Val Loss: 2.61487 | Train Acc: 40.186| Val Acc: 11.337\n",
      "Epoch 082: | Train Loss: 0.80608 | Val Loss: 2.50999 | Train Acc: 40.418| Val Acc: 13.069\n",
      "Epoch 083: | Train Loss: 0.80267 | Val Loss: 2.54143 | Train Acc: 40.992| Val Acc: 11.089\n",
      "Epoch 084: | Train Loss: 0.79218 | Val Loss: 2.71016 | Train Acc: 40.117| Val Acc: 9.752\n",
      "Epoch 085: | Train Loss: 0.81436 | Val Loss: 2.37880 | Train Acc: 40.897| Val Acc: 14.703\n",
      "Epoch 086: | Train Loss: 0.79524 | Val Loss: 2.44132 | Train Acc: 41.133| Val Acc: 14.010\n",
      "Epoch 087: | Train Loss: 0.78080 | Val Loss: 2.50410 | Train Acc: 41.308| Val Acc: 13.564\n",
      "Epoch 088: | Train Loss: 0.78132 | Val Loss: 2.30650 | Train Acc: 40.294| Val Acc: 17.673\n",
      "Epoch 089: | Train Loss: 0.79250 | Val Loss: 2.67466 | Train Acc: 40.078| Val Acc: 11.436\n",
      "Epoch 090: | Train Loss: 0.79412 | Val Loss: 2.47476 | Train Acc: 40.459| Val Acc: 10.693\n",
      "Epoch 091: | Train Loss: 0.76924 | Val Loss: 2.56002 | Train Acc: 41.184| Val Acc: 11.040\n",
      "Epoch 092: | Train Loss: 0.79022 | Val Loss: 2.41408 | Train Acc: 40.350| Val Acc: 14.604\n"
     ]
    },
    {
     "name": "stdout",
     "output_type": "stream",
     "text": [
      "Epoch 093: | Train Loss: 0.77897 | Val Loss: 2.36603 | Train Acc: 41.332| Val Acc: 16.287\n",
      "Epoch 094: | Train Loss: 0.77911 | Val Loss: 2.50803 | Train Acc: 41.075| Val Acc: 13.069\n",
      "Epoch 095: | Train Loss: 0.76935 | Val Loss: 2.60503 | Train Acc: 41.137| Val Acc: 10.545\n",
      "Epoch 096: | Train Loss: 0.76985 | Val Loss: 2.38141 | Train Acc: 41.846| Val Acc: 15.446\n",
      "Epoch 097: | Train Loss: 0.77777 | Val Loss: 2.32801 | Train Acc: 41.595| Val Acc: 15.792\n",
      "Epoch 098: | Train Loss: 0.81212 | Val Loss: 2.51620 | Train Acc: 40.150| Val Acc: 11.436\n",
      "Epoch 099: | Train Loss: 0.74762 | Val Loss: 2.68172 | Train Acc: 41.549| Val Acc: 9.802\n",
      "Epoch 100: | Train Loss: 0.80707 | Val Loss: 2.50422 | Train Acc: 40.915| Val Acc: 11.485\n",
      "Epoch 101: | Train Loss: 0.76407 | Val Loss: 2.59632 | Train Acc: 40.832| Val Acc: 10.792\n",
      "Epoch 102: | Train Loss: 0.78313 | Val Loss: 2.54009 | Train Acc: 41.106| Val Acc: 13.366\n",
      "Epoch 103: | Train Loss: 0.77779 | Val Loss: 2.50883 | Train Acc: 41.534| Val Acc: 13.713\n",
      "Epoch 104: | Train Loss: 0.77935 | Val Loss: 2.38804 | Train Acc: 40.714| Val Acc: 15.248\n",
      "Epoch 105: | Train Loss: 0.76306 | Val Loss: 2.25414 | Train Acc: 42.227| Val Acc: 17.970\n",
      "Epoch 106: | Train Loss: 0.75388 | Val Loss: 2.36818 | Train Acc: 41.378| Val Acc: 14.653\n",
      "Epoch 107: | Train Loss: 0.75022 | Val Loss: 2.53090 | Train Acc: 41.856| Val Acc: 13.119\n",
      "Epoch 108: | Train Loss: 0.77110 | Val Loss: 2.42122 | Train Acc: 41.361| Val Acc: 14.851\n",
      "Epoch 109: | Train Loss: 0.76470 | Val Loss: 2.81267 | Train Acc: 41.327| Val Acc: 10.545\n",
      "Epoch 110: | Train Loss: 0.77770 | Val Loss: 2.52221 | Train Acc: 41.123| Val Acc: 13.069\n",
      "Epoch 111: | Train Loss: 0.75406 | Val Loss: 2.54627 | Train Acc: 41.513| Val Acc: 13.663\n",
      "Epoch 112: | Train Loss: 0.77342 | Val Loss: 2.52512 | Train Acc: 41.530| Val Acc: 12.822\n",
      "Epoch 113: | Train Loss: 0.73896 | Val Loss: 2.31189 | Train Acc: 42.425| Val Acc: 15.842\n",
      "Epoch 114: | Train Loss: 0.75102 | Val Loss: 2.44527 | Train Acc: 42.022| Val Acc: 12.376\n",
      "Epoch 115: | Train Loss: 0.74384 | Val Loss: 2.38111 | Train Acc: 41.741| Val Acc: 13.119\n",
      "Epoch 116: | Train Loss: 0.77319 | Val Loss: 2.43536 | Train Acc: 41.502| Val Acc: 12.129\n",
      "Epoch 117: | Train Loss: 0.75469 | Val Loss: 2.35596 | Train Acc: 41.857| Val Acc: 15.891\n",
      "Epoch 118: | Train Loss: 0.76336 | Val Loss: 2.32226 | Train Acc: 41.986| Val Acc: 16.733\n",
      "Epoch 119: | Train Loss: 0.74141 | Val Loss: 2.30249 | Train Acc: 41.923| Val Acc: 15.990\n",
      "Epoch 120: | Train Loss: 0.75304 | Val Loss: 2.54542 | Train Acc: 41.848| Val Acc: 11.980\n",
      "Epoch 121: | Train Loss: 0.73869 | Val Loss: 2.48472 | Train Acc: 42.191| Val Acc: 12.327\n",
      "Epoch 122: | Train Loss: 0.74913 | Val Loss: 2.63887 | Train Acc: 42.463| Val Acc: 10.347\n",
      "Epoch 123: | Train Loss: 0.77776 | Val Loss: 2.29136 | Train Acc: 42.009| Val Acc: 14.158\n",
      "Epoch 124: | Train Loss: 0.73541 | Val Loss: 2.45326 | Train Acc: 42.644| Val Acc: 12.277\n",
      "Epoch 125: | Train Loss: 0.77025 | Val Loss: 2.49043 | Train Acc: 41.745| Val Acc: 14.406\n",
      "Epoch 126: | Train Loss: 0.72599 | Val Loss: 2.36987 | Train Acc: 42.403| Val Acc: 14.059\n",
      "Epoch 127: | Train Loss: 0.75451 | Val Loss: 2.44327 | Train Acc: 42.376| Val Acc: 14.901\n",
      "Epoch 128: | Train Loss: 0.74688 | Val Loss: 2.40340 | Train Acc: 42.133| Val Acc: 15.842\n",
      "Epoch 129: | Train Loss: 0.74138 | Val Loss: 2.33459 | Train Acc: 42.315| Val Acc: 16.683\n",
      "Epoch 130: | Train Loss: 0.72837 | Val Loss: 2.43072 | Train Acc: 42.728| Val Acc: 13.663\n",
      "Epoch 131: | Train Loss: 0.73473 | Val Loss: 2.67258 | Train Acc: 42.424| Val Acc: 8.713\n",
      "Epoch 132: | Train Loss: 0.73739 | Val Loss: 2.56918 | Train Acc: 42.362| Val Acc: 11.683\n",
      "Epoch 133: | Train Loss: 0.73673 | Val Loss: 2.55377 | Train Acc: 42.254| Val Acc: 12.426\n",
      "Epoch 134: | Train Loss: 0.75182 | Val Loss: 2.37740 | Train Acc: 41.895| Val Acc: 14.307\n",
      "Epoch 135: | Train Loss: 0.70426 | Val Loss: 2.26303 | Train Acc: 43.211| Val Acc: 18.267\n",
      "Epoch 136: | Train Loss: 0.72274 | Val Loss: 2.40547 | Train Acc: 42.717| Val Acc: 11.485\n",
      "Epoch 137: | Train Loss: 0.74562 | Val Loss: 2.42261 | Train Acc: 42.912| Val Acc: 12.376\n",
      "Epoch 138: | Train Loss: 0.75216 | Val Loss: 2.39879 | Train Acc: 42.142| Val Acc: 13.119\n",
      "Epoch 139: | Train Loss: 0.74502 | Val Loss: 2.35048 | Train Acc: 42.966| Val Acc: 16.485\n",
      "Epoch 140: | Train Loss: 0.72478 | Val Loss: 2.43599 | Train Acc: 42.902| Val Acc: 15.842\n",
      "Epoch 141: | Train Loss: 0.75006 | Val Loss: 2.48107 | Train Acc: 42.300| Val Acc: 13.564\n",
      "Epoch 142: | Train Loss: 0.73999 | Val Loss: 2.45173 | Train Acc: 42.532| Val Acc: 13.416\n",
      "Epoch 143: | Train Loss: 0.73096 | Val Loss: 2.46947 | Train Acc: 42.573| Val Acc: 13.465\n",
      "Epoch 144: | Train Loss: 0.73100 | Val Loss: 2.49718 | Train Acc: 42.746| Val Acc: 13.465\n",
      "Epoch 145: | Train Loss: 0.73106 | Val Loss: 2.21490 | Train Acc: 42.861| Val Acc: 18.812\n",
      "Epoch 146: | Train Loss: 0.73128 | Val Loss: 2.40951 | Train Acc: 42.970| Val Acc: 13.564\n",
      "Epoch 147: | Train Loss: 0.72654 | Val Loss: 2.42601 | Train Acc: 43.070| Val Acc: 13.911\n",
      "Epoch 148: | Train Loss: 0.72630 | Val Loss: 2.39146 | Train Acc: 42.846| Val Acc: 15.941\n",
      "Epoch 149: | Train Loss: 0.74139 | Val Loss: 2.25771 | Train Acc: 42.860| Val Acc: 18.416\n",
      "Epoch 150: | Train Loss: 0.69731 | Val Loss: 2.54629 | Train Acc: 43.510| Val Acc: 12.871\n",
      "Epoch 151: | Train Loss: 0.75378 | Val Loss: 2.63947 | Train Acc: 42.282| Val Acc: 11.931\n",
      "Epoch 152: | Train Loss: 0.73070 | Val Loss: 2.42484 | Train Acc: 42.509| Val Acc: 17.228\n",
      "Epoch 153: | Train Loss: 0.74172 | Val Loss: 2.56410 | Train Acc: 43.334| Val Acc: 11.881\n",
      "Epoch 154: | Train Loss: 0.70943 | Val Loss: 2.33519 | Train Acc: 43.134| Val Acc: 16.931\n",
      "Epoch 155: | Train Loss: 0.73278 | Val Loss: 2.57417 | Train Acc: 43.041| Val Acc: 10.050\n",
      "Epoch 156: | Train Loss: 0.72129 | Val Loss: 2.28716 | Train Acc: 43.057| Val Acc: 16.485\n",
      "Epoch 157: | Train Loss: 0.70656 | Val Loss: 2.24647 | Train Acc: 43.920| Val Acc: 17.970\n",
      "Epoch 158: | Train Loss: 0.70813 | Val Loss: 2.32382 | Train Acc: 43.690| Val Acc: 17.475\n",
      "Epoch 159: | Train Loss: 0.72641 | Val Loss: 2.53449 | Train Acc: 43.228| Val Acc: 12.525\n",
      "Epoch 160: | Train Loss: 0.73719 | Val Loss: 2.46940 | Train Acc: 42.885| Val Acc: 12.574\n",
      "Epoch 161: | Train Loss: 0.71525 | Val Loss: 2.73149 | Train Acc: 43.041| Val Acc: 10.248\n",
      "Epoch 162: | Train Loss: 0.75521 | Val Loss: 2.35200 | Train Acc: 42.480| Val Acc: 14.604\n",
      "Epoch 163: | Train Loss: 0.72060 | Val Loss: 2.55584 | Train Acc: 43.235| Val Acc: 13.366\n",
      "Epoch 164: | Train Loss: 0.72014 | Val Loss: 2.41276 | Train Acc: 43.578| Val Acc: 12.921\n",
      "Epoch 165: | Train Loss: 0.71830 | Val Loss: 2.30828 | Train Acc: 43.177| Val Acc: 17.030\n",
      "Epoch 166: | Train Loss: 0.72225 | Val Loss: 2.43905 | Train Acc: 43.850| Val Acc: 15.347\n",
      "\n"
     ]
    },
    {
     "ename": "KeyboardInterrupt",
     "evalue": "",
     "output_type": "error",
     "traceback": [
      "\u001b[1;31m---------------------------------------------------------------------------\u001b[0m",
      "\u001b[1;31mKeyboardInterrupt\u001b[0m                         Traceback (most recent call last)",
      "\u001b[1;32m<ipython-input-24-1aaa275647df>\u001b[0m in \u001b[0;36m<module>\u001b[1;34m\u001b[0m\n\u001b[0;32m     12\u001b[0m         \u001b[0moptimizer\u001b[0m\u001b[1;33m.\u001b[0m\u001b[0mzero_grad\u001b[0m\u001b[1;33m(\u001b[0m\u001b[1;33m)\u001b[0m\u001b[1;33m\u001b[0m\u001b[1;33m\u001b[0m\u001b[0m\n\u001b[0;32m     13\u001b[0m \u001b[1;33m\u001b[0m\u001b[0m\n\u001b[1;32m---> 14\u001b[1;33m         \u001b[0my_train_pred\u001b[0m \u001b[1;33m=\u001b[0m \u001b[0mmodel\u001b[0m\u001b[1;33m(\u001b[0m\u001b[0mX_train_batch\u001b[0m\u001b[1;33m)\u001b[0m\u001b[1;33m\u001b[0m\u001b[1;33m\u001b[0m\u001b[0m\n\u001b[0m\u001b[0;32m     15\u001b[0m \u001b[1;33m\u001b[0m\u001b[0m\n\u001b[0;32m     16\u001b[0m         \u001b[0mtrain_loss\u001b[0m \u001b[1;33m=\u001b[0m \u001b[0mcriterion\u001b[0m\u001b[1;33m(\u001b[0m\u001b[0my_train_pred\u001b[0m\u001b[1;33m,\u001b[0m \u001b[0my_train_batch\u001b[0m\u001b[1;33m)\u001b[0m\u001b[1;33m\u001b[0m\u001b[1;33m\u001b[0m\u001b[0m\n",
      "\u001b[1;32m~\\anaconda3\\lib\\site-packages\\torch\\nn\\modules\\module.py\u001b[0m in \u001b[0;36m_call_impl\u001b[1;34m(self, *input, **kwargs)\u001b[0m\n\u001b[0;32m   1100\u001b[0m         if not (self._backward_hooks or self._forward_hooks or self._forward_pre_hooks or _global_backward_hooks\n\u001b[0;32m   1101\u001b[0m                 or _global_forward_hooks or _global_forward_pre_hooks):\n\u001b[1;32m-> 1102\u001b[1;33m             \u001b[1;32mreturn\u001b[0m \u001b[0mforward_call\u001b[0m\u001b[1;33m(\u001b[0m\u001b[1;33m*\u001b[0m\u001b[0minput\u001b[0m\u001b[1;33m,\u001b[0m \u001b[1;33m**\u001b[0m\u001b[0mkwargs\u001b[0m\u001b[1;33m)\u001b[0m\u001b[1;33m\u001b[0m\u001b[1;33m\u001b[0m\u001b[0m\n\u001b[0m\u001b[0;32m   1103\u001b[0m         \u001b[1;31m# Do not call functions when jit is used\u001b[0m\u001b[1;33m\u001b[0m\u001b[1;33m\u001b[0m\u001b[1;33m\u001b[0m\u001b[0m\n\u001b[0;32m   1104\u001b[0m         \u001b[0mfull_backward_hooks\u001b[0m\u001b[1;33m,\u001b[0m \u001b[0mnon_full_backward_hooks\u001b[0m \u001b[1;33m=\u001b[0m \u001b[1;33m[\u001b[0m\u001b[1;33m]\u001b[0m\u001b[1;33m,\u001b[0m \u001b[1;33m[\u001b[0m\u001b[1;33m]\u001b[0m\u001b[1;33m\u001b[0m\u001b[1;33m\u001b[0m\u001b[0m\n",
      "\u001b[1;32m<ipython-input-18-71b074035c5d>\u001b[0m in \u001b[0;36mforward\u001b[1;34m(self, x)\u001b[0m\n\u001b[0;32m     46\u001b[0m \u001b[1;33m\u001b[0m\u001b[0m\n\u001b[0;32m     47\u001b[0m         \u001b[0mx\u001b[0m \u001b[1;33m=\u001b[0m \u001b[0mself\u001b[0m\u001b[1;33m.\u001b[0m\u001b[0mlayer_4\u001b[0m\u001b[1;33m(\u001b[0m\u001b[0mx\u001b[0m\u001b[1;33m)\u001b[0m\u001b[1;33m\u001b[0m\u001b[1;33m\u001b[0m\u001b[0m\n\u001b[1;32m---> 48\u001b[1;33m         \u001b[0mx\u001b[0m \u001b[1;33m=\u001b[0m \u001b[0mself\u001b[0m\u001b[1;33m.\u001b[0m\u001b[0mbatchnorm4\u001b[0m\u001b[1;33m(\u001b[0m\u001b[0mx\u001b[0m\u001b[1;33m)\u001b[0m\u001b[1;33m\u001b[0m\u001b[1;33m\u001b[0m\u001b[0m\n\u001b[0m\u001b[0;32m     49\u001b[0m         \u001b[0mx\u001b[0m \u001b[1;33m=\u001b[0m \u001b[0mself\u001b[0m\u001b[1;33m.\u001b[0m\u001b[0mrelu_4\u001b[0m\u001b[1;33m(\u001b[0m\u001b[0mx\u001b[0m\u001b[1;33m)\u001b[0m\u001b[1;33m\u001b[0m\u001b[1;33m\u001b[0m\u001b[0m\n\u001b[0;32m     50\u001b[0m \u001b[1;33m\u001b[0m\u001b[0m\n",
      "\u001b[1;32m~\\anaconda3\\lib\\site-packages\\torch\\nn\\modules\\module.py\u001b[0m in \u001b[0;36m_call_impl\u001b[1;34m(self, *input, **kwargs)\u001b[0m\n\u001b[0;32m   1100\u001b[0m         if not (self._backward_hooks or self._forward_hooks or self._forward_pre_hooks or _global_backward_hooks\n\u001b[0;32m   1101\u001b[0m                 or _global_forward_hooks or _global_forward_pre_hooks):\n\u001b[1;32m-> 1102\u001b[1;33m             \u001b[1;32mreturn\u001b[0m \u001b[0mforward_call\u001b[0m\u001b[1;33m(\u001b[0m\u001b[1;33m*\u001b[0m\u001b[0minput\u001b[0m\u001b[1;33m,\u001b[0m \u001b[1;33m**\u001b[0m\u001b[0mkwargs\u001b[0m\u001b[1;33m)\u001b[0m\u001b[1;33m\u001b[0m\u001b[1;33m\u001b[0m\u001b[0m\n\u001b[0m\u001b[0;32m   1103\u001b[0m         \u001b[1;31m# Do not call functions when jit is used\u001b[0m\u001b[1;33m\u001b[0m\u001b[1;33m\u001b[0m\u001b[1;33m\u001b[0m\u001b[0m\n\u001b[0;32m   1104\u001b[0m         \u001b[0mfull_backward_hooks\u001b[0m\u001b[1;33m,\u001b[0m \u001b[0mnon_full_backward_hooks\u001b[0m \u001b[1;33m=\u001b[0m \u001b[1;33m[\u001b[0m\u001b[1;33m]\u001b[0m\u001b[1;33m,\u001b[0m \u001b[1;33m[\u001b[0m\u001b[1;33m]\u001b[0m\u001b[1;33m\u001b[0m\u001b[1;33m\u001b[0m\u001b[0m\n",
      "\u001b[1;32m~\\anaconda3\\lib\\site-packages\\torch\\nn\\modules\\batchnorm.py\u001b[0m in \u001b[0;36mforward\u001b[1;34m(self, input)\u001b[0m\n\u001b[0;32m    166\u001b[0m         \u001b[0mused\u001b[0m \u001b[1;32mfor\u001b[0m \u001b[0mnormalization\u001b[0m \u001b[1;33m(\u001b[0m\u001b[0mi\u001b[0m\u001b[1;33m.\u001b[0m\u001b[0me\u001b[0m\u001b[1;33m.\u001b[0m \u001b[1;32min\u001b[0m \u001b[0meval\u001b[0m \u001b[0mmode\u001b[0m \u001b[0mwhen\u001b[0m \u001b[0mbuffers\u001b[0m \u001b[0mare\u001b[0m \u001b[1;32mnot\u001b[0m \u001b[1;32mNone\u001b[0m\u001b[1;33m)\u001b[0m\u001b[1;33m.\u001b[0m\u001b[1;33m\u001b[0m\u001b[1;33m\u001b[0m\u001b[0m\n\u001b[0;32m    167\u001b[0m         \"\"\"\n\u001b[1;32m--> 168\u001b[1;33m         return F.batch_norm(\n\u001b[0m\u001b[0;32m    169\u001b[0m             \u001b[0minput\u001b[0m\u001b[1;33m,\u001b[0m\u001b[1;33m\u001b[0m\u001b[1;33m\u001b[0m\u001b[0m\n\u001b[0;32m    170\u001b[0m             \u001b[1;31m# If buffers are not to be tracked, ensure that they won't be updated\u001b[0m\u001b[1;33m\u001b[0m\u001b[1;33m\u001b[0m\u001b[1;33m\u001b[0m\u001b[0m\n",
      "\u001b[1;32m~\\anaconda3\\lib\\site-packages\\torch\\nn\\functional.py\u001b[0m in \u001b[0;36mbatch_norm\u001b[1;34m(input, running_mean, running_var, weight, bias, training, momentum, eps)\u001b[0m\n\u001b[0;32m   2280\u001b[0m         \u001b[0m_verify_batch_size\u001b[0m\u001b[1;33m(\u001b[0m\u001b[0minput\u001b[0m\u001b[1;33m.\u001b[0m\u001b[0msize\u001b[0m\u001b[1;33m(\u001b[0m\u001b[1;33m)\u001b[0m\u001b[1;33m)\u001b[0m\u001b[1;33m\u001b[0m\u001b[1;33m\u001b[0m\u001b[0m\n\u001b[0;32m   2281\u001b[0m \u001b[1;33m\u001b[0m\u001b[0m\n\u001b[1;32m-> 2282\u001b[1;33m     return torch.batch_norm(\n\u001b[0m\u001b[0;32m   2283\u001b[0m         \u001b[0minput\u001b[0m\u001b[1;33m,\u001b[0m \u001b[0mweight\u001b[0m\u001b[1;33m,\u001b[0m \u001b[0mbias\u001b[0m\u001b[1;33m,\u001b[0m \u001b[0mrunning_mean\u001b[0m\u001b[1;33m,\u001b[0m \u001b[0mrunning_var\u001b[0m\u001b[1;33m,\u001b[0m \u001b[0mtraining\u001b[0m\u001b[1;33m,\u001b[0m \u001b[0mmomentum\u001b[0m\u001b[1;33m,\u001b[0m \u001b[0meps\u001b[0m\u001b[1;33m,\u001b[0m \u001b[0mtorch\u001b[0m\u001b[1;33m.\u001b[0m\u001b[0mbackends\u001b[0m\u001b[1;33m.\u001b[0m\u001b[0mcudnn\u001b[0m\u001b[1;33m.\u001b[0m\u001b[0menabled\u001b[0m\u001b[1;33m\u001b[0m\u001b[1;33m\u001b[0m\u001b[0m\n\u001b[0;32m   2284\u001b[0m     )\n",
      "\u001b[1;31mKeyboardInterrupt\u001b[0m: "
     ]
    }
   ],
   "source": [
    "print(\"Begin training.\")\n",
    "for e in tqdm(range(1, EPOCHS+1)):\n",
    "    \n",
    "    # TRAINING\n",
    "    train_epoch_loss = 0\n",
    "    train_epoch_acc = 0\n",
    "\n",
    "    model.train()\n",
    "\n",
    "    for X_train_batch, y_train_batch in train_loader:\n",
    "        X_train_batch, y_train_batch = X_train_batch.to(device), y_train_batch.to(device)\n",
    "        optimizer.zero_grad()\n",
    "        \n",
    "        y_train_pred = model(X_train_batch)\n",
    "        \n",
    "        train_loss = criterion(y_train_pred, y_train_batch)\n",
    "        train_acc = multi_acc(y_train_pred, y_train_batch)\n",
    "        \n",
    "        train_loss.backward()\n",
    "        optimizer.step()\n",
    "        \n",
    "        train_epoch_loss += train_loss.item()\n",
    "        train_epoch_acc += train_acc.item()\n",
    "\n",
    "     # VALIDATION    \n",
    "    with torch.no_grad():\n",
    "        val_epoch_loss = 0\n",
    "        val_epoch_acc = 0\n",
    "        \n",
    "        model.eval()\n",
    "        for X_val_batch, y_val_batch in val_loader:\n",
    "            X_val_batch, y_val_batch = X_val_batch.to(device), y_val_batch.to(device)\n",
    "            \n",
    "            y_val_pred = model(X_val_batch)\n",
    "                        \n",
    "            val_loss = criterion(y_val_pred, y_val_batch)\n",
    "            val_acc = multi_acc(y_val_pred, y_val_batch)\n",
    "            \n",
    "            val_epoch_loss += val_loss.item()\n",
    "            val_epoch_acc += val_acc.item()\n",
    "\n",
    "    loss_stats['train'].append(train_epoch_loss/len(train_loader))\n",
    "    loss_stats['val'].append(val_epoch_loss/len(val_loader))\n",
    "    accuracy_stats['train'].append(train_epoch_acc/len(train_loader))\n",
    "    accuracy_stats['val'].append(val_epoch_acc/len(val_loader))\n",
    "                              \n",
    "    \n",
    "    print(f'Epoch {e+0:03}: | Train Loss: {train_epoch_loss/len(train_loader):.5f} | Val Loss: {val_epoch_loss/len(val_loader):.5f} | Train Acc: {train_epoch_acc/len(train_loader):.3f}| Val Acc: {val_epoch_acc/len(val_loader):.3f}')\n",
    "        "
   ]
  },
  {
   "cell_type": "code",
   "execution_count": null,
   "metadata": {},
   "outputs": [],
   "source": [
    "# Create dataframes\n",
    "train_val_acc_df = pd.DataFrame.from_dict(accuracy_stats).reset_index().melt(id_vars=['index']).rename(columns={\"index\":\"epochs\"})\n",
    "train_val_loss_df = pd.DataFrame.from_dict(loss_stats).reset_index().melt(id_vars=['index']).rename(columns={\"index\":\"epochs\"})\n",
    "# Plot the dataframes\n",
    "fig, axes = plt.subplots(nrows=1, ncols=2, figsize=(20,7))\n",
    "sns.lineplot(data=train_val_acc_df, x = \"epochs\", y=\"value\", hue=\"variable\",  ax=axes[0]).set_title('Train-Val Accuracy/Epoch')\n",
    "sns.lineplot(data=train_val_loss_df, x = \"epochs\", y=\"value\", hue=\"variable\", ax=axes[1]).set_title('Train-Val Loss/Epoch')"
   ]
  },
  {
   "cell_type": "code",
   "execution_count": null,
   "metadata": {},
   "outputs": [],
   "source": [
    "y_pred_list = []\n",
    "with torch.no_grad():\n",
    "    model.eval()\n",
    "    for X_batch, _ in test_loader:\n",
    "        X_batch = X_batch.to(device)\n",
    "        y_test_pred = model(X_batch)\n",
    "        _, y_pred_tags = torch.max(y_test_pred, dim = 1)\n",
    "        y_pred_list.append(y_pred_tags.cpu().numpy())\n",
    "y_pred_list = [a.squeeze().tolist() for a in y_pred_list]"
   ]
  },
  {
   "cell_type": "code",
   "execution_count": null,
   "metadata": {},
   "outputs": [],
   "source": [
    "confusion_matrix_df = pd.DataFrame(confusion_matrix(y_test, y_pred_list))\n",
    "\n",
    "plt.figure(figsize = (20, 20))\n",
    "sns.heatmap(confusion_matrix_df, annot=True)"
   ]
  },
  {
   "cell_type": "code",
   "execution_count": null,
   "metadata": {},
   "outputs": [],
   "source": [
    "print(classification_report(y_test, y_pred_list))"
   ]
  },
  {
   "cell_type": "code",
   "execution_count": null,
   "metadata": {},
   "outputs": [],
   "source": [
    "torch.save(model.state_dict(), r'C:\\Users\\diasa\\Machine-Learning\\King-Rook_vs_King\\model_scripted.pt')"
   ]
  }
 ],
 "metadata": {
  "interpreter": {
   "hash": "ac59ebe37160ed0dfa835113d9b8498d9f09ceb179beaac4002f036b9467c963"
  },
  "kernelspec": {
   "display_name": "Python 3",
   "language": "python",
   "name": "python3"
  },
  "language_info": {
   "codemirror_mode": {
    "name": "ipython",
    "version": 3
   },
   "file_extension": ".py",
   "mimetype": "text/x-python",
   "name": "python",
   "nbconvert_exporter": "python",
   "pygments_lexer": "ipython3",
   "version": "3.8.5"
  }
 },
 "nbformat": 4,
 "nbformat_minor": 2
}
